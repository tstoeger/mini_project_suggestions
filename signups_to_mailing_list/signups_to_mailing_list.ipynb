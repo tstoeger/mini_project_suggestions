{
 "cells": [
  {
   "cell_type": "markdown",
   "metadata": {},
   "source": [
    "# Investigate signups to (anonymized) mailing list\n",
    "## Suggested aims\n",
    "- Explore origin of domains, and identify opportunities to spread mailing list\n",
    "- Explore temporal pattern of signups and test impact of interventions vs. natural growth\n",
    "\n",
    "## Aim of this notebook\n",
    "- Provide suggestions on growing mailing list (and underlying community at NU) further\n",
    "- Provide entry for custom analysis\n",
    "\n",
    "## Suggested initial approaches (covered)\n",
    "- pandas: loading data, basic time series\n",
    "\n",
    "\n",
    "## Level\n",
    "Entry; Intermediate for custom extensions"
   ]
  },
  {
   "cell_type": "markdown",
   "metadata": {},
   "source": [
    "# Data background"
   ]
  },
  {
   "cell_type": "markdown",
   "metadata": {},
   "source": [
    "Mailing lists and listservs can be an important tool to reach communities at a University. However, analysing them might also provide chances to identify missed opportunities. "
   ]
  },
  {
   "cell_type": "markdown",
   "metadata": {},
   "source": [
    "# Analysis"
   ]
  },
  {
   "cell_type": "markdown",
   "metadata": {},
   "source": [
    "## General settings"
   ]
  },
  {
   "cell_type": "code",
   "execution_count": 1,
   "metadata": {
    "collapsed": true
   },
   "outputs": [],
   "source": [
    "%matplotlib inline\n",
    "\n",
    "import os\n",
    "import numpy as np\n",
    "import pandas as pd\n",
    "\n",
    "import matplotlib.pyplot as plt"
   ]
  },
  {
   "cell_type": "markdown",
   "metadata": {},
   "source": [
    "## Data import and initial inspection"
   ]
  },
  {
   "cell_type": "code",
   "execution_count": 2,
   "metadata": {
    "collapsed": true
   },
   "outputs": [],
   "source": [
    "# complete the path to the anonymized mailing list, which should be in the same directory\n",
    "# as this notebook\n",
    "path_to_mail = './anonymized_mailing_list.csv'"
   ]
  },
  {
   "cell_type": "code",
   "execution_count": 3,
   "metadata": {
    "collapsed": true
   },
   "outputs": [],
   "source": [
    "# Import the anonymized mail data\n",
    "df_mail = pd.read_csv(path_to_mail)"
   ]
  },
  {
   "cell_type": "code",
   "execution_count": 4,
   "metadata": {},
   "outputs": [
    {
     "data": {
      "text/html": [
       "<div>\n",
       "<style>\n",
       "    .dataframe thead tr:only-child th {\n",
       "        text-align: right;\n",
       "    }\n",
       "\n",
       "    .dataframe thead th {\n",
       "        text-align: left;\n",
       "    }\n",
       "\n",
       "    .dataframe tbody tr th {\n",
       "        vertical-align: top;\n",
       "    }\n",
       "</style>\n",
       "<table border=\"1\" class=\"dataframe\">\n",
       "  <thead>\n",
       "    <tr style=\"text-align: right;\">\n",
       "      <th></th>\n",
       "      <th>user_id</th>\n",
       "      <th>domain</th>\n",
       "      <th>signup</th>\n",
       "    </tr>\n",
       "  </thead>\n",
       "  <tbody>\n",
       "    <tr>\n",
       "      <th>0</th>\n",
       "      <td>0</td>\n",
       "      <td>KELLOGG.NORTHWESTERN.EDU</td>\n",
       "      <td>2017-10-26</td>\n",
       "    </tr>\n",
       "    <tr>\n",
       "      <th>1</th>\n",
       "      <td>1</td>\n",
       "      <td>NORTHWESTERN.EDU</td>\n",
       "      <td>2017-10-10</td>\n",
       "    </tr>\n",
       "    <tr>\n",
       "      <th>2</th>\n",
       "      <td>2</td>\n",
       "      <td>KELLOGG.NORTHWESTERN.EDU</td>\n",
       "      <td>2016-06-29</td>\n",
       "    </tr>\n",
       "    <tr>\n",
       "      <th>3</th>\n",
       "      <td>3</td>\n",
       "      <td>NORTHWESTERN.EDU</td>\n",
       "      <td>2017-04-24</td>\n",
       "    </tr>\n",
       "    <tr>\n",
       "      <th>4</th>\n",
       "      <td>4</td>\n",
       "      <td>U.NORTHWESTERN.EDU</td>\n",
       "      <td>2017-10-10</td>\n",
       "    </tr>\n",
       "  </tbody>\n",
       "</table>\n",
       "</div>"
      ],
      "text/plain": [
       "   user_id                    domain      signup\n",
       "0        0  KELLOGG.NORTHWESTERN.EDU  2017-10-26\n",
       "1        1          NORTHWESTERN.EDU  2017-10-10\n",
       "2        2  KELLOGG.NORTHWESTERN.EDU  2016-06-29\n",
       "3        3          NORTHWESTERN.EDU  2017-04-24\n",
       "4        4        U.NORTHWESTERN.EDU  2017-10-10"
      ]
     },
     "execution_count": 4,
     "metadata": {},
     "output_type": "execute_result"
    }
   ],
   "source": [
    "# Inspect the first entries\n",
    "df_mail.head()"
   ]
  },
  {
   "cell_type": "markdown",
   "metadata": {},
   "source": [
    "## Domains used in mailing list"
   ]
  },
  {
   "cell_type": "code",
   "execution_count": 5,
   "metadata": {},
   "outputs": [
    {
     "data": {
      "text/plain": [
       "U.NORTHWESTERN.EDU          0.384127\n",
       "NORTHWESTERN.EDU            0.285714\n",
       "GMAIL.COM                   0.231746\n",
       "KELLOGG.NORTHWESTERN.EDU    0.041270\n",
       "UCHICAGO.EDU                0.022222\n",
       "HOTMAIL.COM                 0.009524\n",
       "UMICH.EDU                   0.006349\n",
       "YAHOO.COM                   0.006349\n",
       "LURIECHILDRENS.ORG          0.003175\n",
       "EECS.NORTHWESTERN.EDU       0.003175\n",
       "GRAVITY.PHYS.UWM.EDU        0.003175\n",
       "GALTON.UCHICAGO.EDU         0.003175\n",
       "Name: domain, dtype: float64"
      ]
     },
     "execution_count": 5,
     "metadata": {},
     "output_type": "execute_result"
    }
   ],
   "source": [
    "# count the number of occurences of every domain, and divide by the length of the table\n",
    "df_mail['domain'].value_counts() / df_mail['domain'].shape[0]"
   ]
  },
  {
   "cell_type": "markdown",
   "metadata": {},
   "source": [
    "## Time Series analysis"
   ]
  },
  {
   "cell_type": "code",
   "execution_count": 6,
   "metadata": {
    "collapsed": true
   },
   "outputs": [],
   "source": [
    "# convert signup to datetime format\n",
    "df_mail['signup'] = pd.to_datetime(df_mail['signup'])"
   ]
  },
  {
   "cell_type": "code",
   "execution_count": 7,
   "metadata": {
    "collapsed": true
   },
   "outputs": [],
   "source": [
    "# group by month\n",
    "df_mail.index = df_mail['signup']\n",
    "grouped_by_month = df_mail.groupby(pd.TimeGrouper('M'))"
   ]
  },
  {
   "cell_type": "code",
   "execution_count": 8,
   "metadata": {
    "collapsed": true
   },
   "outputs": [],
   "source": [
    "# create table with sign-ups per month\n",
    "signups_per_month = grouped_by_month.size().to_frame('signups')\n",
    "signups_per_month.index.name = 'month'"
   ]
  },
  {
   "cell_type": "code",
   "execution_count": 9,
   "metadata": {},
   "outputs": [
    {
     "data": {
      "text/html": [
       "<div>\n",
       "<style>\n",
       "    .dataframe thead tr:only-child th {\n",
       "        text-align: right;\n",
       "    }\n",
       "\n",
       "    .dataframe thead th {\n",
       "        text-align: left;\n",
       "    }\n",
       "\n",
       "    .dataframe tbody tr th {\n",
       "        vertical-align: top;\n",
       "    }\n",
       "</style>\n",
       "<table border=\"1\" class=\"dataframe\">\n",
       "  <thead>\n",
       "    <tr style=\"text-align: right;\">\n",
       "      <th></th>\n",
       "      <th>signups</th>\n",
       "    </tr>\n",
       "    <tr>\n",
       "      <th>month</th>\n",
       "      <th></th>\n",
       "    </tr>\n",
       "  </thead>\n",
       "  <tbody>\n",
       "    <tr>\n",
       "      <th>2016-06-30</th>\n",
       "      <td>30</td>\n",
       "    </tr>\n",
       "    <tr>\n",
       "      <th>2016-07-31</th>\n",
       "      <td>24</td>\n",
       "    </tr>\n",
       "    <tr>\n",
       "      <th>2016-08-31</th>\n",
       "      <td>1</td>\n",
       "    </tr>\n",
       "    <tr>\n",
       "      <th>2016-09-30</th>\n",
       "      <td>1</td>\n",
       "    </tr>\n",
       "    <tr>\n",
       "      <th>2016-10-31</th>\n",
       "      <td>2</td>\n",
       "    </tr>\n",
       "  </tbody>\n",
       "</table>\n",
       "</div>"
      ],
      "text/plain": [
       "            signups\n",
       "month              \n",
       "2016-06-30       30\n",
       "2016-07-31       24\n",
       "2016-08-31        1\n",
       "2016-09-30        1\n",
       "2016-10-31        2"
      ]
     },
     "execution_count": 9,
     "metadata": {},
     "output_type": "execute_result"
    }
   ],
   "source": [
    "# inspect top of table\n",
    "signups_per_month.head()"
   ]
  },
  {
   "cell_type": "code",
   "execution_count": 10,
   "metadata": {},
   "outputs": [
    {
     "data": {
      "text/plain": [
       "(0, 350)"
      ]
     },
     "execution_count": 10,
     "metadata": {},
     "output_type": "execute_result"
    },
    {
     "data": {
      "image/png": "[encoded data removed]",
      "text/plain": [
       "<matplotlib.figure.Figure at 0x1097afb70>"
      ]
     },
     "metadata": {},
     "output_type": "display_data"
    }
   ],
   "source": [
    "# plot cumulative number of sign-ups\n",
    "plt.scatter(\n",
    "    signups_per_month.index, \n",
    "    np.cumsum(\n",
    "        signups_per_month['signups']))\n",
    "plt.xlabel('date')\n",
    "plt.ylabel('total signups')\n",
    "plt.ylim((0,350 ))"
   ]
  },
  {
   "cell_type": "markdown",
   "metadata": {},
   "source": [
    "# Possible further directions\n",
    "- Add external data from Northwestern to identify departments and institutes, which aren't reached by this maliling list\n",
    "- Analyse time series for individual domains\n",
    "- Compare passive growth vs. growth after active advertisment of the mailing list (Dates of active advertising: June 2016, July 2016, April 2017, August 2017, October 2017, November 2017, January 2018)\n"
   ]
  },
  {
   "cell_type": "code",
   "execution_count": null,
   "metadata": {
    "collapsed": true
   },
   "outputs": [],
   "source": []
  },
  {
   "cell_type": "code",
   "execution_count": null,
   "metadata": {
    "collapsed": true
   },
   "outputs": [],
   "source": []
  }
 ],
 "metadata": {
  "kernelspec": {
   "display_name": "Python 3",
   "language": "python",
   "name": "python3"
  },
  "language_info": {
   "codemirror_mode": {
    "name": "ipython",
    "version": 3
   },
   "file_extension": ".py",
   "mimetype": "text/x-python",
   "name": "python",
   "nbconvert_exporter": "python",
   "pygments_lexer": "ipython3",
   "version": "3.6.3"
  }
 },
 "nbformat": 4,
 "nbformat_minor": 2
}
