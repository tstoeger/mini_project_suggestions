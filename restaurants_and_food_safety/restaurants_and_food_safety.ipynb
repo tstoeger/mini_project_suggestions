{
 "cells": [
  {
   "cell_type": "markdown",
   "metadata": {},
   "source": [
    "# Chicago restaurants and food inspections\n",
    "## Suggested aims\n",
    "- Explore placement of restaurants within Chicago: What are differences between Mc Donald's, and Whole Foods, and Starbucks? (For me Starbucks was really surprising, as I thought it would be everywhere I'd go ...)\n",
    "- Check food safety at Northwestern\n",
    "- Investigate whether some restaurants (or locations) are more prone to fail food inspections.\n",
    "- Investigate reasons for failed food inspections\n",
    "\n",
    "## Aim of this notebook\n",
    "- Provide basic strategies on exploring restaurants within Chicago \n",
    "\n",
    "## Suggested initial approaches (covered)\n",
    "- pandas, filtering, computation of aggregate statistics\n",
    "- python: lambda functions\n",
    "- seaborn\n",
    "\n",
    "## Suggested further approaches (not covered)\n",
    "- pandas: text processing, merging, binning\n",
    "- manual curation (or computational entity matching): correct spelling mistakes of restaurants\n",
    "- scipy: non-parametric statistics\n",
    "\n",
    "## Level\n",
    "Intermediate"
   ]
  },
  {
   "cell_type": "markdown",
   "metadata": {},
   "source": [
    "# Data background"
   ]
  },
  {
   "cell_type": "markdown",
   "metadata": {},
   "source": [
    "The city of Chicago holds a great collection of public data at: data.cityofchicago.org\n",
    "\n",
    "<b>Download Food Inspection data (~300MB)</b>: https://data.cityofchicago.org/Health-Human-Services/Food-Inspections/4ijn-s7e5  \n",
    "<b>Recommended: download the .csv version</b>"
   ]
  },
  {
   "cell_type": "markdown",
   "metadata": {},
   "source": [
    "# Analysis"
   ]
  },
  {
   "cell_type": "markdown",
   "metadata": {},
   "source": [
    "## General settings"
   ]
  },
  {
   "cell_type": "code",
   "execution_count": 1,
   "metadata": {
    "collapsed": true
   },
   "outputs": [],
   "source": [
    "# point this to the folder, where you downloaded generifs_basics.gz\n",
    "project_path = '~/Dropbox/data_science_tutorials/templates/restaurants_and_food_safety/project_path'"
   ]
  },
  {
   "cell_type": "code",
   "execution_count": 2,
   "metadata": {
    "collapsed": true
   },
   "outputs": [],
   "source": [
    "%matplotlib inline\n",
    "\n",
    "import os\n",
    "import pandas as pd\n",
    "\n",
    "import matplotlib.pyplot as plt"
   ]
  },
  {
   "cell_type": "markdown",
   "metadata": {},
   "source": [
    "## Data import and initial inspection"
   ]
  },
  {
   "cell_type": "code",
   "execution_count": 3,
   "metadata": {
    "collapsed": true
   },
   "outputs": [],
   "source": [
    "# complete the path to the food inspections; \n",
    "# Note that the name might needs to be changed, depending on the name chosen for your download\n",
    "path_to_inspections = os.path.join(project_path, 'Food_inspections.csv')"
   ]
  },
  {
   "cell_type": "code",
   "execution_count": 4,
   "metadata": {
    "collapsed": true
   },
   "outputs": [],
   "source": [
    "# Import the food inspections. Note: I had downloaded the 'csv' version and thus use\n",
    "# the \n",
    "df_inspections = pd.read_csv(path_to_inspections)"
   ]
  },
  {
   "cell_type": "code",
   "execution_count": 5,
   "metadata": {},
   "outputs": [
    {
     "data": {
      "text/html": [
       "<div>\n",
       "<style>\n",
       "    .dataframe thead tr:only-child th {\n",
       "        text-align: right;\n",
       "    }\n",
       "\n",
       "    .dataframe thead th {\n",
       "        text-align: left;\n",
       "    }\n",
       "\n",
       "    .dataframe tbody tr th {\n",
       "        vertical-align: top;\n",
       "    }\n",
       "</style>\n",
       "<table border=\"1\" class=\"dataframe\">\n",
       "  <thead>\n",
       "    <tr style=\"text-align: right;\">\n",
       "      <th></th>\n",
       "      <th>Inspection ID</th>\n",
       "      <th>DBA Name</th>\n",
       "      <th>AKA Name</th>\n",
       "      <th>License #</th>\n",
       "      <th>Facility Type</th>\n",
       "      <th>Risk</th>\n",
       "      <th>Address</th>\n",
       "      <th>City</th>\n",
       "      <th>State</th>\n",
       "      <th>Zip</th>\n",
       "      <th>Inspection Date</th>\n",
       "      <th>Inspection Type</th>\n",
       "      <th>Results</th>\n",
       "      <th>Violations</th>\n",
       "      <th>Latitude</th>\n",
       "      <th>Longitude</th>\n",
       "      <th>Location</th>\n",
       "    </tr>\n",
       "  </thead>\n",
       "  <tbody>\n",
       "    <tr>\n",
       "      <th>0</th>\n",
       "      <td>2135602</td>\n",
       "      <td>NEW CHINA STATION</td>\n",
       "      <td>CHINA STATION</td>\n",
       "      <td>2506320.0</td>\n",
       "      <td>Restaurant</td>\n",
       "      <td>Risk 1 (High)</td>\n",
       "      <td>2411 W NORTH AVE</td>\n",
       "      <td>CHICAGO</td>\n",
       "      <td>IL</td>\n",
       "      <td>60647.0</td>\n",
       "      <td>01/18/2018</td>\n",
       "      <td>Canvass Re-Inspection</td>\n",
       "      <td>Fail</td>\n",
       "      <td>10. SEWAGE AND WASTE WATER DISPOSAL, NO BACK S...</td>\n",
       "      <td>41.910205</td>\n",
       "      <td>-87.687702</td>\n",
       "      <td>(41.910205129391386, -87.68770229368916)</td>\n",
       "    </tr>\n",
       "    <tr>\n",
       "      <th>1</th>\n",
       "      <td>2135592</td>\n",
       "      <td>MUGHAL INDIA INC</td>\n",
       "      <td>MUGHAL INDIA RESTAURANT</td>\n",
       "      <td>2119771.0</td>\n",
       "      <td>Restaurant</td>\n",
       "      <td>Risk 1 (High)</td>\n",
       "      <td>560 W VAN BUREN ST</td>\n",
       "      <td>CHICAGO</td>\n",
       "      <td>IL</td>\n",
       "      <td>60607.0</td>\n",
       "      <td>01/18/2018</td>\n",
       "      <td>Canvass Re-Inspection</td>\n",
       "      <td>Pass</td>\n",
       "      <td>16. FOOD PROTECTED DURING STORAGE, PREPARATION...</td>\n",
       "      <td>41.876850</td>\n",
       "      <td>-87.641985</td>\n",
       "      <td>(41.876849676938306, -87.64198533328084)</td>\n",
       "    </tr>\n",
       "    <tr>\n",
       "      <th>2</th>\n",
       "      <td>2135584</td>\n",
       "      <td>STONY ISLAND GROCERY</td>\n",
       "      <td>STONY ISLAND GROCERY</td>\n",
       "      <td>2565095.0</td>\n",
       "      <td>NaN</td>\n",
       "      <td>All</td>\n",
       "      <td>8301 S STONY ISLAND AVE</td>\n",
       "      <td>CHICAGO</td>\n",
       "      <td>IL</td>\n",
       "      <td>60617.0</td>\n",
       "      <td>01/18/2018</td>\n",
       "      <td>License</td>\n",
       "      <td>Not Ready</td>\n",
       "      <td>NaN</td>\n",
       "      <td>41.744160</td>\n",
       "      <td>-87.585228</td>\n",
       "      <td>(41.74416023099397, -87.5852284872351)</td>\n",
       "    </tr>\n",
       "    <tr>\n",
       "      <th>3</th>\n",
       "      <td>2135565</td>\n",
       "      <td>SUBWAY</td>\n",
       "      <td>SUBWAY</td>\n",
       "      <td>1904894.0</td>\n",
       "      <td>Restaurant</td>\n",
       "      <td>Risk 1 (High)</td>\n",
       "      <td>1300 S WABASH AVE</td>\n",
       "      <td>CHICAGO</td>\n",
       "      <td>IL</td>\n",
       "      <td>60605.0</td>\n",
       "      <td>01/18/2018</td>\n",
       "      <td>Canvass Re-Inspection</td>\n",
       "      <td>Fail</td>\n",
       "      <td>16. FOOD PROTECTED DURING STORAGE, PREPARATION...</td>\n",
       "      <td>41.865676</td>\n",
       "      <td>-87.625944</td>\n",
       "      <td>(41.8656758723776, -87.625943531346)</td>\n",
       "    </tr>\n",
       "    <tr>\n",
       "      <th>4</th>\n",
       "      <td>2135556</td>\n",
       "      <td>CONVENIENT FOOD MART</td>\n",
       "      <td>CONVENIENT FOOD MART</td>\n",
       "      <td>2074199.0</td>\n",
       "      <td>Grocery Store</td>\n",
       "      <td>Risk 3 (Low)</td>\n",
       "      <td>2850 N SHERIDAN RD</td>\n",
       "      <td>CHICAGO</td>\n",
       "      <td>IL</td>\n",
       "      <td>60657.0</td>\n",
       "      <td>01/18/2018</td>\n",
       "      <td>Complaint Re-Inspection</td>\n",
       "      <td>Pass</td>\n",
       "      <td>18. NO EVIDENCE OF RODENT OR INSECT OUTER OPEN...</td>\n",
       "      <td>41.934271</td>\n",
       "      <td>-87.639488</td>\n",
       "      <td>(41.93427051907201, -87.63948842747087)</td>\n",
       "    </tr>\n",
       "  </tbody>\n",
       "</table>\n",
       "</div>"
      ],
      "text/plain": [
       "   Inspection ID              DBA Name                 AKA Name  License #  \\\n",
       "0        2135602     NEW CHINA STATION            CHINA STATION  2506320.0   \n",
       "1        2135592      MUGHAL INDIA INC  MUGHAL INDIA RESTAURANT  2119771.0   \n",
       "2        2135584  STONY ISLAND GROCERY     STONY ISLAND GROCERY  2565095.0   \n",
       "3        2135565                SUBWAY                   SUBWAY  1904894.0   \n",
       "4        2135556  CONVENIENT FOOD MART     CONVENIENT FOOD MART  2074199.0   \n",
       "\n",
       "   Facility Type           Risk                   Address     City State  \\\n",
       "0     Restaurant  Risk 1 (High)         2411 W NORTH AVE   CHICAGO    IL   \n",
       "1     Restaurant  Risk 1 (High)       560 W VAN BUREN ST   CHICAGO    IL   \n",
       "2            NaN            All  8301 S STONY ISLAND AVE   CHICAGO    IL   \n",
       "3     Restaurant  Risk 1 (High)        1300 S WABASH AVE   CHICAGO    IL   \n",
       "4  Grocery Store   Risk 3 (Low)       2850 N SHERIDAN RD   CHICAGO    IL   \n",
       "\n",
       "       Zip Inspection Date          Inspection Type    Results  \\\n",
       "0  60647.0      01/18/2018    Canvass Re-Inspection       Fail   \n",
       "1  60607.0      01/18/2018    Canvass Re-Inspection       Pass   \n",
       "2  60617.0      01/18/2018                  License  Not Ready   \n",
       "3  60605.0      01/18/2018    Canvass Re-Inspection       Fail   \n",
       "4  60657.0      01/18/2018  Complaint Re-Inspection       Pass   \n",
       "\n",
       "                                          Violations   Latitude  Longitude  \\\n",
       "0  10. SEWAGE AND WASTE WATER DISPOSAL, NO BACK S...  41.910205 -87.687702   \n",
       "1  16. FOOD PROTECTED DURING STORAGE, PREPARATION...  41.876850 -87.641985   \n",
       "2                                                NaN  41.744160 -87.585228   \n",
       "3  16. FOOD PROTECTED DURING STORAGE, PREPARATION...  41.865676 -87.625944   \n",
       "4  18. NO EVIDENCE OF RODENT OR INSECT OUTER OPEN...  41.934271 -87.639488   \n",
       "\n",
       "                                   Location  \n",
       "0  (41.910205129391386, -87.68770229368916)  \n",
       "1  (41.876849676938306, -87.64198533328084)  \n",
       "2    (41.74416023099397, -87.5852284872351)  \n",
       "3      (41.8656758723776, -87.625943531346)  \n",
       "4   (41.93427051907201, -87.63948842747087)  "
      ]
     },
     "execution_count": 5,
     "metadata": {},
     "output_type": "execute_result"
    }
   ],
   "source": [
    "# Inspect the first entries\n",
    "df_inspections.head()"
   ]
  },
  {
   "cell_type": "code",
   "execution_count": 6,
   "metadata": {},
   "outputs": [
    {
     "data": {
      "text/plain": [
       "Index(['Inspection ID', 'DBA Name', 'AKA Name', 'License #', 'Facility Type',\n",
       "       'Risk', 'Address', 'City', 'State', 'Zip', 'Inspection Date',\n",
       "       'Inspection Type', 'Results', 'Violations', 'Latitude', 'Longitude',\n",
       "       'Location'],\n",
       "      dtype='object')"
      ]
     },
     "execution_count": 6,
     "metadata": {},
     "output_type": "execute_result"
    }
   ],
   "source": [
    "# inspect the column names to obtain an overview of distinct data saved in the table\n",
    "df_inspections.columns"
   ]
  },
  {
   "cell_type": "markdown",
   "metadata": {},
   "source": [
    "# Investigate presence of restaurant"
   ]
  },
  {
   "cell_type": "markdown",
   "metadata": {},
   "source": [
    "### Gain overview of data"
   ]
  },
  {
   "cell_type": "code",
   "execution_count": 7,
   "metadata": {},
   "outputs": [
    {
     "data": {
      "text/plain": [
       "<matplotlib.collections.PathCollection at 0x10fda1208>"
      ]
     },
     "execution_count": 7,
     "metadata": {},
     "output_type": "execute_result"
    },
    {
     "data": {
      "image/png": "[encoded data removed]",
      "text/plain": [
       "<matplotlib.figure.Figure at 0x119e63cf8>"
      ]
     },
     "metadata": {},
     "output_type": "display_data"
    }
   ],
   "source": [
    "# Let's do a scatter plot\n",
    "plt.scatter(\n",
    "    df_inspections.loc[:, 'Longitude'],\n",
    "    df_inspections.loc[:, 'Latitude'], \n",
    "    s=0.5)"
   ]
  },
  {
   "cell_type": "markdown",
   "metadata": {},
   "source": [
    "### Inspect distribution of individual restaurant brands\n"
   ]
  },
  {
   "cell_type": "code",
   "execution_count": 8,
   "metadata": {},
   "outputs": [
    {
     "data": {
      "text/plain": [
       "SUBWAY                          2258\n",
       "DUNKIN DONUTS                   1183\n",
       "MCDONALD'S                       503\n",
       "7-ELEVEN                         394\n",
       "MCDONALDS                        290\n",
       "CHIPOTLE MEXICAN GRILL           269\n",
       "POTBELLY SANDWICH WORKS LLC      229\n",
       "CORNER BAKERY CAFE               206\n",
       "POTBELLY SANDWICH WORKS          196\n",
       "DUNKIN DONUTS/BASKIN ROBBINS     184\n",
       "DOMINO'S PIZZA                   180\n",
       "SPORTSERVICE SOLDIER FIELD       176\n",
       "WHOLE FOODS MARKET               172\n",
       "FRESHII                          169\n",
       "AU BON PAIN                      168\n",
       "SUBWAY SANDWICHES                165\n",
       "HAROLD'S CHICKEN SHACK           163\n",
       "KFC                              156\n",
       "Subway                           152\n",
       "SEE THRU CHINESE KITCHEN         136\n",
       "Name: DBA Name, dtype: int64"
      ]
     },
     "execution_count": 8,
     "metadata": {},
     "output_type": "execute_result"
    }
   ],
   "source": [
    "# get overview of the restaurants with the most food inspections\n",
    "df_inspections.loc[:, 'DBA Name'].value_counts().head(20)"
   ]
  },
  {
   "cell_type": "markdown",
   "metadata": {},
   "source": [
    "Now plot the occurence of MC DONALD'S"
   ]
  },
  {
   "cell_type": "code",
   "execution_count": 9,
   "metadata": {},
   "outputs": [
    {
     "data": {
      "text/plain": [
       "<matplotlib.collections.PathCollection at 0x10b4e2438>"
      ]
     },
     "execution_count": 9,
     "metadata": {},
     "output_type": "execute_result"
    },
    {
     "data": {
      "image/png": "[encoded data removed]",
      "text/plain": [
       "<matplotlib.figure.Figure at 0x10fdc2ba8>"
      ]
     },
     "metadata": {},
     "output_type": "display_data"
    }
   ],
   "source": [
    "# plot background (all restaurants)\n",
    "plt.scatter(\n",
    "    df_inspections.loc[:, 'Longitude'],\n",
    "    df_inspections.loc[:, 'Latitude'], \n",
    "    s=0.5)\n",
    "\n",
    "# make filter for data of interest\n",
    "is_restaurant_of_interest = df_inspections['DBA Name'] == \"MCDONALD'S\"   # use \" hyphens so that ' can be used in name\n",
    "\n",
    "# plot data of interest\n",
    "plt.scatter(\n",
    "    df_inspections.loc[is_restaurant_of_interest, 'Longitude'],\n",
    "    df_inspections.loc[is_restaurant_of_interest, 'Latitude'], \n",
    "    s=10,\n",
    "    c='red'\n",
    ")"
   ]
  },
  {
   "cell_type": "markdown",
   "metadata": {},
   "source": [
    "### Suggestion:\n",
    "Try a few further restaurants, such as WHOLE FOODS MARKET or STARBUCKS or SUBWAY. Where are they?"
   ]
  },
  {
   "cell_type": "markdown",
   "metadata": {},
   "source": [
    "## Investigate failure of food inspections"
   ]
  },
  {
   "cell_type": "markdown",
   "metadata": {},
   "source": [
    "### Only consider food inspections that were either 'Pass' or 'Fail'"
   ]
  },
  {
   "cell_type": "code",
   "execution_count": 10,
   "metadata": {
    "collapsed": true
   },
   "outputs": [],
   "source": [
    "f = (df_inspections.loc[:, 'Results'] == 'Pass') | (df_inspections.loc[:, 'Results'] == 'Fail')\n",
    "df_unambiguous = df_inspections.loc[f, :].copy()  # make copy, to preclude potential mistakes"
   ]
  },
  {
   "cell_type": "markdown",
   "metadata": {},
   "source": [
    "### Do the restaurants and canteens of Northwestern fail food inspections more or less than other restaurants?"
   ]
  },
  {
   "cell_type": "code",
   "execution_count": 11,
   "metadata": {
    "collapsed": true
   },
   "outputs": [],
   "source": [
    "restaurant_of_interest = \"NORTHWESTERN\"\n",
    "\n",
    "df_unambiguous.loc[:, 'has_passed'] = df_unambiguous.loc[:, 'Results'] == 'Pass'\n",
    "df_unambiguous.loc[:, 'is_restaurant_of_interest'] = df_unambiguous.loc[:, 'DBA Name'].str.contains(\n",
    "    restaurant_of_interest)"
   ]
  },
  {
   "cell_type": "code",
   "execution_count": 12,
   "metadata": {
    "collapsed": true
   },
   "outputs": [],
   "source": [
    "# # Let's see it the the given restaurant is more likely to fail food inspections\n",
    "# # the error bars will indicate 95% confidence interval of bootstrapped samples\n",
    "# # Note: to run the code, the # sign has to be removed\n",
    "# sns.barplot(\n",
    "#     x='is_restaurant_of_interest',\n",
    "#     y='has_passed',\n",
    "#     data=df_unambiguous\n",
    "# )\n",
    "\n",
    "\n",
    "# # Actually, as expected, the result is quite good."
   ]
  },
  {
   "cell_type": "code",
   "execution_count": 13,
   "metadata": {
    "collapsed": true
   },
   "outputs": [],
   "source": [
    "# Yet, let's get the places with failed food inspetions\n",
    "f = (df_unambiguous['is_restaurant_of_interest']) & (df_unambiguous['has_passed']==False)\n",
    "failed_inspections = df_unambiguous.loc[f, :]"
   ]
  },
  {
   "cell_type": "code",
   "execution_count": 14,
   "metadata": {
    "collapsed": true
   },
   "outputs": [],
   "source": [
    "# # Where did tests fail? (Are failures distributed across Northwestern, or occur at one place?)\n",
    "# # Note that # has to be removed to show content of variable.\n",
    "# failed_inspections"
   ]
  },
  {
   "cell_type": "code",
   "execution_count": 15,
   "metadata": {
    "collapsed": true
   },
   "outputs": [],
   "source": [
    "# # inspect the violations of the first entry listed above\n",
    "# # Note that # has to be removed to show content of variable.\n",
    "# failed_inspections.iloc[0,:]['Violations'] "
   ]
  },
  {
   "cell_type": "markdown",
   "metadata": {},
   "source": [
    "### Relation between frequency of inspections and failure"
   ]
  },
  {
   "cell_type": "code",
   "execution_count": 16,
   "metadata": {},
   "outputs": [
    {
     "data": {
      "text/plain": [
       "Index(['Inspection ID', 'DBA Name', 'AKA Name', 'License #', 'Facility Type',\n",
       "       'Risk', 'Address', 'City', 'State', 'Zip', 'Inspection Date',\n",
       "       'Inspection Type', 'Results', 'Violations', 'Latitude', 'Longitude',\n",
       "       'Location'],\n",
       "      dtype='object')"
      ]
     },
     "execution_count": 16,
     "metadata": {},
     "output_type": "execute_result"
    }
   ],
   "source": [
    "df_inspections.columns"
   ]
  },
  {
   "cell_type": "code",
   "execution_count": 17,
   "metadata": {
    "collapsed": true
   },
   "outputs": [],
   "source": [
    "# Explanation: line by line:\n",
    "\n",
    "# From df_unambiguous (which only has tests with Pass or Fail)\n",
    "# selet the columns [only select the license number, and the results] then group the data by\n",
    "# the license number. And aggregate the data\n",
    "# with a function that counts the total number of entries that are 'Pass'. Rename\n",
    "# the columns of the results to avoid ambiguity later on\n",
    "\n",
    "passed_inspections = df_unambiguous[\n",
    "    ['License #', 'Results']].groupby(\n",
    "    'License #').agg(\n",
    "    lambda x: sum(x=='Pass')).rename(\n",
    "        columns={'Results': 'passed'})"
   ]
  },
  {
   "cell_type": "code",
   "execution_count": 18,
   "metadata": {},
   "outputs": [
    {
     "data": {
      "text/html": [
       "<div>\n",
       "<style>\n",
       "    .dataframe thead tr:only-child th {\n",
       "        text-align: right;\n",
       "    }\n",
       "\n",
       "    .dataframe thead th {\n",
       "        text-align: left;\n",
       "    }\n",
       "\n",
       "    .dataframe tbody tr th {\n",
       "        vertical-align: top;\n",
       "    }\n",
       "</style>\n",
       "<table border=\"1\" class=\"dataframe\">\n",
       "  <thead>\n",
       "    <tr style=\"text-align: right;\">\n",
       "      <th></th>\n",
       "      <th>passed</th>\n",
       "    </tr>\n",
       "    <tr>\n",
       "      <th>License #</th>\n",
       "      <th></th>\n",
       "    </tr>\n",
       "  </thead>\n",
       "  <tbody>\n",
       "    <tr>\n",
       "      <th>0.0</th>\n",
       "      <td>240</td>\n",
       "    </tr>\n",
       "    <tr>\n",
       "      <th>1.0</th>\n",
       "      <td>1</td>\n",
       "    </tr>\n",
       "    <tr>\n",
       "      <th>2.0</th>\n",
       "      <td>10</td>\n",
       "    </tr>\n",
       "    <tr>\n",
       "      <th>9.0</th>\n",
       "      <td>8</td>\n",
       "    </tr>\n",
       "    <tr>\n",
       "      <th>40.0</th>\n",
       "      <td>11</td>\n",
       "    </tr>\n",
       "  </tbody>\n",
       "</table>\n",
       "</div>"
      ],
      "text/plain": [
       "           passed\n",
       "License #        \n",
       "0.0           240\n",
       "1.0             1\n",
       "2.0            10\n",
       "9.0             8\n",
       "40.0           11"
      ]
     },
     "execution_count": 18,
     "metadata": {},
     "output_type": "execute_result"
    }
   ],
   "source": [
    "# Inspet data\n",
    "passed_inspections.head()"
   ]
  },
  {
   "cell_type": "code",
   "execution_count": 19,
   "metadata": {
    "collapsed": true
   },
   "outputs": [],
   "source": [
    "# From df_unambiguous (which only has tests with Pass or Fail)\n",
    "# selet the columns [only select the license number, and the results] then group the data by\n",
    "# the license number. And count the number of elements (thus either pass or fail)\n",
    "# convert the resulting data series to a tabular data frame, \n",
    "# and set the name to 'total' to avoid ambiguities later on\n",
    "\n",
    "total_inspections = df_unambiguous[\n",
    "    ['License #', 'Results']].groupby(\n",
    "    'License #').size(\n",
    ").to_frame(\n",
    "    name='total')"
   ]
  },
  {
   "cell_type": "code",
   "execution_count": 20,
   "metadata": {
    "collapsed": true
   },
   "outputs": [],
   "source": [
    "# concatenate tables with the same index (License #)\n",
    "# namely the the tables, passed_inspections and total_inspections\n",
    "# along the column-axis\n",
    "summary = pd.concat(        \n",
    "    [passed_inspections, total_inspections], \n",
    "    axis=1)"
   ]
  },
  {
   "cell_type": "code",
   "execution_count": 21,
   "metadata": {
    "collapsed": true
   },
   "outputs": [],
   "source": [
    "summary.loc[:, 'fraction_passed'] = summary.loc[:, 'passed'] / summary.loc[:, 'total']"
   ]
  },
  {
   "cell_type": "code",
   "execution_count": 22,
   "metadata": {
    "collapsed": true
   },
   "outputs": [],
   "source": [
    "import numpy as np"
   ]
  },
  {
   "cell_type": "code",
   "execution_count": 23,
   "metadata": {
    "collapsed": true
   },
   "outputs": [],
   "source": [
    "import seaborn as sns"
   ]
  },
  {
   "cell_type": "code",
   "execution_count": 24,
   "metadata": {},
   "outputs": [
    {
     "data": {
      "text/plain": [
       "<seaborn.axisgrid.FacetGrid at 0x11962c5c0>"
      ]
     },
     "execution_count": 24,
     "metadata": {},
     "output_type": "execute_result"
    },
    {
     "data": {
      "image/png": "[encoded data removed]",
      "text/plain": [
       "<matplotlib.figure.Figure at 0x11962c860>"
      ]
     },
     "metadata": {},
     "output_type": "display_data"
    }
   ],
   "source": [
    "sns.lmplot(\n",
    "    x='total', \n",
    "    y='passed', \n",
    "    data=summary.apply(lambda x: np.log10(x +1)),\n",
    "    lowess=True,    # make a non-linear regression\n",
    "    scatter_kws={'s': 5},\n",
    "    line_kws={'color': 'k'}\n",
    ")"
   ]
  },
  {
   "cell_type": "markdown",
   "metadata": {},
   "source": [
    "It appears that the failure rate of food inspections is quite constant. Howeer there are some restaurants which pass less frequently than others."
   ]
  },
  {
   "cell_type": "markdown",
   "metadata": {},
   "source": [
    "# Possible further directions\n",
    "- Inspect restaurants with low rate of passing inspections. \n",
    "- Inspect whether failure rate differs across the distinct areas or locations within Chicago?\n",
    "- Do some text analysis to investigate the reaons for failure.\n",
    "- Set up an automated script, which once a day goes to Chicago's data portal, and checks, if one of the restaurants of Northwestern has just passed or failed a food safety inspection, and would then write you an email about the results"
   ]
  },
  {
   "cell_type": "code",
   "execution_count": null,
   "metadata": {
    "collapsed": true
   },
   "outputs": [],
   "source": []
  },
  {
   "cell_type": "code",
   "execution_count": null,
   "metadata": {
    "collapsed": true
   },
   "outputs": [],
   "source": []
  }
 ],
 "metadata": {
  "kernelspec": {
   "display_name": "Python 3",
   "language": "python",
   "name": "python3"
  },
  "language_info": {
   "codemirror_mode": {
    "name": "ipython",
    "version": 3
   },
   "file_extension": ".py",
   "mimetype": "text/x-python",
   "name": "python",
   "nbconvert_exporter": "python",
   "pygments_lexer": "ipython3",
   "version": "3.6.3"
  }
 },
 "nbformat": 4,
 "nbformat_minor": 2
}
