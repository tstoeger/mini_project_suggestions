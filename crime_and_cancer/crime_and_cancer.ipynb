{
 "cells": [
  {
   "cell_type": "markdown",
   "metadata": {},
   "source": [
    "# Health indicators of the City of Chicago\n",
    "## Suggested  aims\n",
    "- Get an overview of health data in Chicago\n",
    "- Investigate, whether there are distinct regions in Chicago\n",
    "- Predict health indicators (e.g.: cancer rate) by other characteristics (e.g.: unemployment)\n",
    "\n",
    "## Aim of this notebook\n",
    "- Provide basic strategies on exploring a heterogeneous data set\n",
    "- Learn clustering of data\n",
    "- Learn application of a robust, and veratile machine learning method\n",
    "\n",
    "## Suggested initial approaches (covered)\n",
    "- pandas, and its functions to process text\n",
    "- seaborn for visualization\n",
    "- scikit learn\n",
    "\n",
    "## Level\n",
    "Beginner"
   ]
  },
  {
   "cell_type": "markdown",
   "metadata": {},
   "source": [
    "# Data background"
   ]
  },
  {
   "cell_type": "markdown",
   "metadata": {},
   "source": [
    "The city of Chicago holds a great collection of public data at: data.cityofchicago.org\n",
    "\n",
    "<b>Download Health indicators</b>: https://data.cityofchicago.org/Health-Human-Services/Public-Health-Statistics-Selected-public-health-in/iqnk-2tcu"
   ]
  },
  {
   "cell_type": "markdown",
   "metadata": {},
   "source": [
    "# Analysis"
   ]
  },
  {
   "cell_type": "markdown",
   "metadata": {},
   "source": [
    "## General settings"
   ]
  },
  {
   "cell_type": "code",
   "execution_count": 1,
   "metadata": {
    "collapsed": true
   },
   "outputs": [],
   "source": [
    "# point this to the folder, where you downloaded health indicators\n",
    "project_path = '~/Dropbox/data_science_tutorials/templates/crime_and_cancer/project_path/'"
   ]
  },
  {
   "cell_type": "code",
   "execution_count": 2,
   "metadata": {
    "collapsed": true
   },
   "outputs": [],
   "source": [
    "%matplotlib inline\n",
    "\n",
    "import os\n",
    "import pandas as pd\n",
    "\n",
    "import matplotlib.pyplot as plt"
   ]
  },
  {
   "cell_type": "markdown",
   "metadata": {},
   "source": [
    "## Data import and clean-up"
   ]
  },
  {
   "cell_type": "code",
   "execution_count": 3,
   "metadata": {
    "collapsed": true
   },
   "outputs": [],
   "source": [
    "# complete the path to the generifs; note that the name of the file might\n",
    "# differ slightly (e.g.: if file was saved under another name, or if the \n",
    "# web-browser would automatically extrat the .gz archive -> consider to double\n",
    "# check in hour file browser)\n",
    "path_to_city_data = os.path.join(\n",
    "    project_path,\n",
    "    'Public_Health_Statistics-_Selected_public_health_indicators_by_Chicago_community_area.csv')"
   ]
  },
  {
   "cell_type": "code",
   "execution_count": 4,
   "metadata": {
    "collapsed": true
   },
   "outputs": [],
   "source": [
    "df = pd.read_csv(path_to_city_data)"
   ]
  },
  {
   "cell_type": "code",
   "execution_count": 5,
   "metadata": {},
   "outputs": [
    {
     "data": {
      "text/html": [
       "<div>\n",
       "<style>\n",
       "    .dataframe thead tr:only-child th {\n",
       "        text-align: right;\n",
       "    }\n",
       "\n",
       "    .dataframe thead th {\n",
       "        text-align: left;\n",
       "    }\n",
       "\n",
       "    .dataframe tbody tr th {\n",
       "        vertical-align: top;\n",
       "    }\n",
       "</style>\n",
       "<table border=\"1\" class=\"dataframe\">\n",
       "  <thead>\n",
       "    <tr style=\"text-align: right;\">\n",
       "      <th></th>\n",
       "      <th>Community Area</th>\n",
       "      <th>Community Area Name</th>\n",
       "      <th>Birth Rate</th>\n",
       "      <th>General Fertility Rate</th>\n",
       "      <th>Low Birth Weight</th>\n",
       "      <th>Prenatal Care Beginning in First Trimester</th>\n",
       "      <th>Preterm Births</th>\n",
       "      <th>Teen Birth Rate</th>\n",
       "      <th>Assault (Homicide)</th>\n",
       "      <th>Breast cancer in females</th>\n",
       "      <th>...</th>\n",
       "      <th>Childhood Lead Poisoning</th>\n",
       "      <th>Gonorrhea in Females</th>\n",
       "      <th>Gonorrhea in Males</th>\n",
       "      <th>Tuberculosis</th>\n",
       "      <th>Below Poverty Level</th>\n",
       "      <th>Crowded Housing</th>\n",
       "      <th>Dependency</th>\n",
       "      <th>No High School Diploma</th>\n",
       "      <th>Per Capita Income</th>\n",
       "      <th>Unemployment</th>\n",
       "    </tr>\n",
       "  </thead>\n",
       "  <tbody>\n",
       "    <tr>\n",
       "      <th>0</th>\n",
       "      <td>1</td>\n",
       "      <td>Rogers Park</td>\n",
       "      <td>16.4</td>\n",
       "      <td>62.0</td>\n",
       "      <td>11.0</td>\n",
       "      <td>73.0</td>\n",
       "      <td>11.2</td>\n",
       "      <td>40.8</td>\n",
       "      <td>7.7</td>\n",
       "      <td>23.3</td>\n",
       "      <td>...</td>\n",
       "      <td>0.5</td>\n",
       "      <td>322.5</td>\n",
       "      <td>423.3</td>\n",
       "      <td>11.4</td>\n",
       "      <td>22.7</td>\n",
       "      <td>7.9</td>\n",
       "      <td>28.8</td>\n",
       "      <td>18.1</td>\n",
       "      <td>23714</td>\n",
       "      <td>7.5</td>\n",
       "    </tr>\n",
       "    <tr>\n",
       "      <th>1</th>\n",
       "      <td>2</td>\n",
       "      <td>West Ridge</td>\n",
       "      <td>17.3</td>\n",
       "      <td>83.3</td>\n",
       "      <td>8.1</td>\n",
       "      <td>71.1</td>\n",
       "      <td>8.3</td>\n",
       "      <td>29.9</td>\n",
       "      <td>5.8</td>\n",
       "      <td>20.2</td>\n",
       "      <td>...</td>\n",
       "      <td>1.0</td>\n",
       "      <td>141.0</td>\n",
       "      <td>205.7</td>\n",
       "      <td>8.9</td>\n",
       "      <td>15.1</td>\n",
       "      <td>7.0</td>\n",
       "      <td>38.3</td>\n",
       "      <td>19.6</td>\n",
       "      <td>21375</td>\n",
       "      <td>7.9</td>\n",
       "    </tr>\n",
       "    <tr>\n",
       "      <th>2</th>\n",
       "      <td>3</td>\n",
       "      <td>Uptown</td>\n",
       "      <td>13.1</td>\n",
       "      <td>50.5</td>\n",
       "      <td>8.3</td>\n",
       "      <td>77.7</td>\n",
       "      <td>10.3</td>\n",
       "      <td>35.1</td>\n",
       "      <td>5.4</td>\n",
       "      <td>21.3</td>\n",
       "      <td>...</td>\n",
       "      <td>0.5</td>\n",
       "      <td>170.8</td>\n",
       "      <td>468.7</td>\n",
       "      <td>13.6</td>\n",
       "      <td>22.7</td>\n",
       "      <td>4.6</td>\n",
       "      <td>22.2</td>\n",
       "      <td>13.6</td>\n",
       "      <td>32355</td>\n",
       "      <td>7.7</td>\n",
       "    </tr>\n",
       "    <tr>\n",
       "      <th>3</th>\n",
       "      <td>4</td>\n",
       "      <td>Lincoln Square</td>\n",
       "      <td>17.1</td>\n",
       "      <td>61.0</td>\n",
       "      <td>8.1</td>\n",
       "      <td>80.5</td>\n",
       "      <td>9.7</td>\n",
       "      <td>38.4</td>\n",
       "      <td>5.0</td>\n",
       "      <td>21.7</td>\n",
       "      <td>...</td>\n",
       "      <td>0.4</td>\n",
       "      <td>98.8</td>\n",
       "      <td>195.5</td>\n",
       "      <td>8.5</td>\n",
       "      <td>9.5</td>\n",
       "      <td>3.1</td>\n",
       "      <td>25.6</td>\n",
       "      <td>12.5</td>\n",
       "      <td>35503</td>\n",
       "      <td>6.8</td>\n",
       "    </tr>\n",
       "    <tr>\n",
       "      <th>4</th>\n",
       "      <td>5</td>\n",
       "      <td>North Center</td>\n",
       "      <td>22.4</td>\n",
       "      <td>76.2</td>\n",
       "      <td>9.1</td>\n",
       "      <td>80.4</td>\n",
       "      <td>9.8</td>\n",
       "      <td>8.4</td>\n",
       "      <td>1.0</td>\n",
       "      <td>16.6</td>\n",
       "      <td>...</td>\n",
       "      <td>0.9</td>\n",
       "      <td>85.4</td>\n",
       "      <td>188.6</td>\n",
       "      <td>1.9</td>\n",
       "      <td>7.1</td>\n",
       "      <td>0.2</td>\n",
       "      <td>25.5</td>\n",
       "      <td>5.4</td>\n",
       "      <td>51615</td>\n",
       "      <td>4.5</td>\n",
       "    </tr>\n",
       "  </tbody>\n",
       "</table>\n",
       "<p>5 rows × 29 columns</p>\n",
       "</div>"
      ],
      "text/plain": [
       "   Community Area Community Area Name  Birth Rate  General Fertility Rate  \\\n",
       "0               1         Rogers Park        16.4                    62.0   \n",
       "1               2          West Ridge        17.3                    83.3   \n",
       "2               3              Uptown        13.1                    50.5   \n",
       "3               4      Lincoln Square        17.1                    61.0   \n",
       "4               5        North Center        22.4                    76.2   \n",
       "\n",
       "   Low Birth Weight  Prenatal Care Beginning in First Trimester  \\\n",
       "0              11.0                                        73.0   \n",
       "1               8.1                                        71.1   \n",
       "2               8.3                                        77.7   \n",
       "3               8.1                                        80.5   \n",
       "4               9.1                                        80.4   \n",
       "\n",
       "   Preterm Births  Teen Birth Rate  Assault (Homicide)  \\\n",
       "0            11.2             40.8                 7.7   \n",
       "1             8.3             29.9                 5.8   \n",
       "2            10.3             35.1                 5.4   \n",
       "3             9.7             38.4                 5.0   \n",
       "4             9.8              8.4                 1.0   \n",
       "\n",
       "   Breast cancer in females      ...       Childhood Lead Poisoning  \\\n",
       "0                      23.3      ...                            0.5   \n",
       "1                      20.2      ...                            1.0   \n",
       "2                      21.3      ...                            0.5   \n",
       "3                      21.7      ...                            0.4   \n",
       "4                      16.6      ...                            0.9   \n",
       "\n",
       "   Gonorrhea in Females  Gonorrhea in Males  Tuberculosis  \\\n",
       "0                 322.5               423.3          11.4   \n",
       "1                 141.0               205.7           8.9   \n",
       "2                 170.8               468.7          13.6   \n",
       "3                  98.8               195.5           8.5   \n",
       "4                  85.4               188.6           1.9   \n",
       "\n",
       "   Below Poverty Level  Crowded Housing  Dependency  No High School Diploma  \\\n",
       "0                 22.7              7.9        28.8                    18.1   \n",
       "1                 15.1              7.0        38.3                    19.6   \n",
       "2                 22.7              4.6        22.2                    13.6   \n",
       "3                  9.5              3.1        25.6                    12.5   \n",
       "4                  7.1              0.2        25.5                     5.4   \n",
       "\n",
       "   Per Capita Income  Unemployment  \n",
       "0              23714           7.5  \n",
       "1              21375           7.9  \n",
       "2              32355           7.7  \n",
       "3              35503           6.8  \n",
       "4              51615           4.5  \n",
       "\n",
       "[5 rows x 29 columns]"
      ]
     },
     "execution_count": 5,
     "metadata": {},
     "output_type": "execute_result"
    }
   ],
   "source": [
    "# Inspect the top of the table\n",
    "df.head()"
   ]
  },
  {
   "cell_type": "code",
   "execution_count": 6,
   "metadata": {
    "collapsed": true
   },
   "outputs": [],
   "source": [
    "# remove community area code, as it won't be needed\n",
    "df = df.drop('Community Area', axis=1)  "
   ]
  },
  {
   "cell_type": "code",
   "execution_count": 7,
   "metadata": {
    "collapsed": true
   },
   "outputs": [],
   "source": [
    "# Define the index. The values of the index won't be used in subsequent calculations\n",
    "df = df.set_index('Community Area Name')"
   ]
  },
  {
   "cell_type": "code",
   "execution_count": 8,
   "metadata": {},
   "outputs": [
    {
     "data": {
      "text/html": [
       "<div>\n",
       "<style>\n",
       "    .dataframe thead tr:only-child th {\n",
       "        text-align: right;\n",
       "    }\n",
       "\n",
       "    .dataframe thead th {\n",
       "        text-align: left;\n",
       "    }\n",
       "\n",
       "    .dataframe tbody tr th {\n",
       "        vertical-align: top;\n",
       "    }\n",
       "</style>\n",
       "<table border=\"1\" class=\"dataframe\">\n",
       "  <thead>\n",
       "    <tr style=\"text-align: right;\">\n",
       "      <th></th>\n",
       "      <th>Birth Rate</th>\n",
       "      <th>General Fertility Rate</th>\n",
       "      <th>Low Birth Weight</th>\n",
       "      <th>Prenatal Care Beginning in First Trimester</th>\n",
       "      <th>Preterm Births</th>\n",
       "      <th>Teen Birth Rate</th>\n",
       "      <th>Assault (Homicide)</th>\n",
       "      <th>Breast cancer in females</th>\n",
       "      <th>Cancer (All Sites)</th>\n",
       "      <th>Colorectal Cancer</th>\n",
       "      <th>...</th>\n",
       "      <th>Childhood Lead Poisoning</th>\n",
       "      <th>Gonorrhea in Females</th>\n",
       "      <th>Gonorrhea in Males</th>\n",
       "      <th>Tuberculosis</th>\n",
       "      <th>Below Poverty Level</th>\n",
       "      <th>Crowded Housing</th>\n",
       "      <th>Dependency</th>\n",
       "      <th>No High School Diploma</th>\n",
       "      <th>Per Capita Income</th>\n",
       "      <th>Unemployment</th>\n",
       "    </tr>\n",
       "    <tr>\n",
       "      <th>Community Area Name</th>\n",
       "      <th></th>\n",
       "      <th></th>\n",
       "      <th></th>\n",
       "      <th></th>\n",
       "      <th></th>\n",
       "      <th></th>\n",
       "      <th></th>\n",
       "      <th></th>\n",
       "      <th></th>\n",
       "      <th></th>\n",
       "      <th></th>\n",
       "      <th></th>\n",
       "      <th></th>\n",
       "      <th></th>\n",
       "      <th></th>\n",
       "      <th></th>\n",
       "      <th></th>\n",
       "      <th></th>\n",
       "      <th></th>\n",
       "      <th></th>\n",
       "      <th></th>\n",
       "    </tr>\n",
       "  </thead>\n",
       "  <tbody>\n",
       "    <tr>\n",
       "      <th>Rogers Park</th>\n",
       "      <td>16.4</td>\n",
       "      <td>62.0</td>\n",
       "      <td>11.0</td>\n",
       "      <td>73.0</td>\n",
       "      <td>11.2</td>\n",
       "      <td>40.8</td>\n",
       "      <td>7.7</td>\n",
       "      <td>23.3</td>\n",
       "      <td>176.9</td>\n",
       "      <td>25.3</td>\n",
       "      <td>...</td>\n",
       "      <td>0.5</td>\n",
       "      <td>322.5</td>\n",
       "      <td>423.3</td>\n",
       "      <td>11.4</td>\n",
       "      <td>22.7</td>\n",
       "      <td>7.9</td>\n",
       "      <td>28.8</td>\n",
       "      <td>18.1</td>\n",
       "      <td>23714</td>\n",
       "      <td>7.5</td>\n",
       "    </tr>\n",
       "    <tr>\n",
       "      <th>West Ridge</th>\n",
       "      <td>17.3</td>\n",
       "      <td>83.3</td>\n",
       "      <td>8.1</td>\n",
       "      <td>71.1</td>\n",
       "      <td>8.3</td>\n",
       "      <td>29.9</td>\n",
       "      <td>5.8</td>\n",
       "      <td>20.2</td>\n",
       "      <td>155.9</td>\n",
       "      <td>17.3</td>\n",
       "      <td>...</td>\n",
       "      <td>1.0</td>\n",
       "      <td>141.0</td>\n",
       "      <td>205.7</td>\n",
       "      <td>8.9</td>\n",
       "      <td>15.1</td>\n",
       "      <td>7.0</td>\n",
       "      <td>38.3</td>\n",
       "      <td>19.6</td>\n",
       "      <td>21375</td>\n",
       "      <td>7.9</td>\n",
       "    </tr>\n",
       "    <tr>\n",
       "      <th>Uptown</th>\n",
       "      <td>13.1</td>\n",
       "      <td>50.5</td>\n",
       "      <td>8.3</td>\n",
       "      <td>77.7</td>\n",
       "      <td>10.3</td>\n",
       "      <td>35.1</td>\n",
       "      <td>5.4</td>\n",
       "      <td>21.3</td>\n",
       "      <td>183.3</td>\n",
       "      <td>20.5</td>\n",
       "      <td>...</td>\n",
       "      <td>0.5</td>\n",
       "      <td>170.8</td>\n",
       "      <td>468.7</td>\n",
       "      <td>13.6</td>\n",
       "      <td>22.7</td>\n",
       "      <td>4.6</td>\n",
       "      <td>22.2</td>\n",
       "      <td>13.6</td>\n",
       "      <td>32355</td>\n",
       "      <td>7.7</td>\n",
       "    </tr>\n",
       "    <tr>\n",
       "      <th>Lincoln Square</th>\n",
       "      <td>17.1</td>\n",
       "      <td>61.0</td>\n",
       "      <td>8.1</td>\n",
       "      <td>80.5</td>\n",
       "      <td>9.7</td>\n",
       "      <td>38.4</td>\n",
       "      <td>5.0</td>\n",
       "      <td>21.7</td>\n",
       "      <td>153.2</td>\n",
       "      <td>8.6</td>\n",
       "      <td>...</td>\n",
       "      <td>0.4</td>\n",
       "      <td>98.8</td>\n",
       "      <td>195.5</td>\n",
       "      <td>8.5</td>\n",
       "      <td>9.5</td>\n",
       "      <td>3.1</td>\n",
       "      <td>25.6</td>\n",
       "      <td>12.5</td>\n",
       "      <td>35503</td>\n",
       "      <td>6.8</td>\n",
       "    </tr>\n",
       "    <tr>\n",
       "      <th>North Center</th>\n",
       "      <td>22.4</td>\n",
       "      <td>76.2</td>\n",
       "      <td>9.1</td>\n",
       "      <td>80.4</td>\n",
       "      <td>9.8</td>\n",
       "      <td>8.4</td>\n",
       "      <td>1.0</td>\n",
       "      <td>16.6</td>\n",
       "      <td>152.1</td>\n",
       "      <td>26.1</td>\n",
       "      <td>...</td>\n",
       "      <td>0.9</td>\n",
       "      <td>85.4</td>\n",
       "      <td>188.6</td>\n",
       "      <td>1.9</td>\n",
       "      <td>7.1</td>\n",
       "      <td>0.2</td>\n",
       "      <td>25.5</td>\n",
       "      <td>5.4</td>\n",
       "      <td>51615</td>\n",
       "      <td>4.5</td>\n",
       "    </tr>\n",
       "  </tbody>\n",
       "</table>\n",
       "<p>5 rows × 27 columns</p>\n",
       "</div>"
      ],
      "text/plain": [
       "                     Birth Rate  General Fertility Rate  Low Birth Weight  \\\n",
       "Community Area Name                                                         \n",
       "Rogers Park                16.4                    62.0              11.0   \n",
       "West Ridge                 17.3                    83.3               8.1   \n",
       "Uptown                     13.1                    50.5               8.3   \n",
       "Lincoln Square             17.1                    61.0               8.1   \n",
       "North Center               22.4                    76.2               9.1   \n",
       "\n",
       "                     Prenatal Care Beginning in First Trimester  \\\n",
       "Community Area Name                                               \n",
       "Rogers Park                                                73.0   \n",
       "West Ridge                                                 71.1   \n",
       "Uptown                                                     77.7   \n",
       "Lincoln Square                                             80.5   \n",
       "North Center                                               80.4   \n",
       "\n",
       "                     Preterm Births  Teen Birth Rate  Assault (Homicide)  \\\n",
       "Community Area Name                                                        \n",
       "Rogers Park                    11.2             40.8                 7.7   \n",
       "West Ridge                      8.3             29.9                 5.8   \n",
       "Uptown                         10.3             35.1                 5.4   \n",
       "Lincoln Square                  9.7             38.4                 5.0   \n",
       "North Center                    9.8              8.4                 1.0   \n",
       "\n",
       "                     Breast cancer in females  Cancer (All Sites)  \\\n",
       "Community Area Name                                                 \n",
       "Rogers Park                              23.3               176.9   \n",
       "West Ridge                               20.2               155.9   \n",
       "Uptown                                   21.3               183.3   \n",
       "Lincoln Square                           21.7               153.2   \n",
       "North Center                             16.6               152.1   \n",
       "\n",
       "                     Colorectal Cancer     ...       Childhood Lead Poisoning  \\\n",
       "Community Area Name                        ...                                  \n",
       "Rogers Park                       25.3     ...                            0.5   \n",
       "West Ridge                        17.3     ...                            1.0   \n",
       "Uptown                            20.5     ...                            0.5   \n",
       "Lincoln Square                     8.6     ...                            0.4   \n",
       "North Center                      26.1     ...                            0.9   \n",
       "\n",
       "                     Gonorrhea in Females  Gonorrhea in Males  Tuberculosis  \\\n",
       "Community Area Name                                                           \n",
       "Rogers Park                         322.5               423.3          11.4   \n",
       "West Ridge                          141.0               205.7           8.9   \n",
       "Uptown                              170.8               468.7          13.6   \n",
       "Lincoln Square                       98.8               195.5           8.5   \n",
       "North Center                         85.4               188.6           1.9   \n",
       "\n",
       "                     Below Poverty Level  Crowded Housing  Dependency  \\\n",
       "Community Area Name                                                     \n",
       "Rogers Park                         22.7              7.9        28.8   \n",
       "West Ridge                          15.1              7.0        38.3   \n",
       "Uptown                              22.7              4.6        22.2   \n",
       "Lincoln Square                       9.5              3.1        25.6   \n",
       "North Center                         7.1              0.2        25.5   \n",
       "\n",
       "                     No High School Diploma  Per Capita Income Unemployment  \n",
       "Community Area Name                                                          \n",
       "Rogers Park                            18.1              23714          7.5  \n",
       "West Ridge                             19.6              21375          7.9  \n",
       "Uptown                                 13.6              32355          7.7  \n",
       "Lincoln Square                         12.5              35503          6.8  \n",
       "North Center                            5.4              51615          4.5  \n",
       "\n",
       "[5 rows x 27 columns]"
      ]
     },
     "execution_count": 8,
     "metadata": {},
     "output_type": "execute_result"
    }
   ],
   "source": [
    "df.head()"
   ]
  },
  {
   "cell_type": "code",
   "execution_count": null,
   "metadata": {
    "collapsed": true
   },
   "outputs": [],
   "source": []
  },
  {
   "cell_type": "code",
   "execution_count": null,
   "metadata": {
    "collapsed": true
   },
   "outputs": [],
   "source": []
  },
  {
   "cell_type": "code",
   "execution_count": 9,
   "metadata": {
    "collapsed": true
   },
   "outputs": [],
   "source": [
    "# Remove indicators with incomplete data\n",
    "# note that in reality, removing entries with incomplete data is very dangerous\n",
    "# For instance, a recent paper showed that ~half of the political science studies\n",
    "# in one subfield are wrong, since - what suprprise - some times data isn't provided\n",
    "# due to non-random reasons (Lall, Political Analysis, 2016: \n",
    "# How Multiple Imputation Makes a Difference)\n",
    "\n",
    "# Anyways, for this tutorial, we remove records wiht incomplete data\n",
    "df = df.drop(\n",
    "    [\n",
    "    'Gonorrhea in Females',\n",
    "    'Gonorrhea in Males']\n",
    ", axis=1)"
   ]
  },
  {
   "cell_type": "code",
   "execution_count": 10,
   "metadata": {
    "collapsed": true
   },
   "outputs": [],
   "source": [
    "# now convert everyting to numbers\n",
    "df = df.astype(float)"
   ]
  },
  {
   "cell_type": "code",
   "execution_count": 11,
   "metadata": {
    "collapsed": true
   },
   "outputs": [],
   "source": [
    "# remove a community where at least one health indicator is not-a-number\n",
    "df = df.dropna(axis=1)"
   ]
  },
  {
   "cell_type": "markdown",
   "metadata": {},
   "source": [
    "## Visualize communities of Chicago"
   ]
  },
  {
   "cell_type": "code",
   "execution_count": 12,
   "metadata": {
    "collapsed": true
   },
   "outputs": [],
   "source": [
    "# normalize as different characteristics are measured, \n",
    "# e.g.: to maximal value to preserve human interpretability\n",
    "maximum_of_indicator = df.max()\n",
    "max_normalized_df = df / maximum_of_indicator"
   ]
  },
  {
   "cell_type": "code",
   "execution_count": 13,
   "metadata": {
    "collapsed": true
   },
   "outputs": [],
   "source": [
    "import seaborn as sns"
   ]
  },
  {
   "cell_type": "code",
   "execution_count": 14,
   "metadata": {},
   "outputs": [
    {
     "data": {
      "text/plain": [
       "<seaborn.matrix.ClusterGrid at 0x10abe2748>"
      ]
     },
     "execution_count": 14,
     "metadata": {},
     "output_type": "execute_result"
    },
    {
     "data": {
      "image/png": "[encoded data removed]",
      "text/plain": [
       "<matplotlib.figure.Figure at 0x10abddfd0>"
      ]
     },
     "metadata": {},
     "output_type": "display_data"
    }
   ],
   "source": [
    "sns.clustermap(max_normalized_df)"
   ]
  },
  {
   "cell_type": "markdown",
   "metadata": {},
   "source": [
    "## Predict characteristics of communities"
   ]
  },
  {
   "cell_type": "code",
   "execution_count": 15,
   "metadata": {},
   "outputs": [
    {
     "data": {
      "text/plain": [
       "Index(['Birth Rate', 'General Fertility Rate', 'Low Birth Weight',\n",
       "       'Prenatal Care Beginning in First Trimester', 'Preterm Births',\n",
       "       'Teen Birth Rate', 'Assault (Homicide)', 'Breast cancer in females',\n",
       "       'Cancer (All Sites)', 'Colorectal Cancer', 'Diabetes-related',\n",
       "       'Firearm-related', 'Infant Mortality Rate', 'Lung Cancer',\n",
       "       'Prostate Cancer in Males', 'Stroke (Cerebrovascular Disease)',\n",
       "       'Tuberculosis', 'Below Poverty Level', 'Crowded Housing', 'Dependency',\n",
       "       'No High School Diploma', 'Per Capita Income', 'Unemployment'],\n",
       "      dtype='object')"
      ]
     },
     "execution_count": 15,
     "metadata": {},
     "output_type": "execute_result"
    }
   ],
   "source": [
    "# Print all columns\n",
    "df.columns"
   ]
  },
  {
   "cell_type": "code",
   "execution_count": 16,
   "metadata": {
    "collapsed": true
   },
   "outputs": [],
   "source": [
    "column_to_predict = [\n",
    "    'Cancer (All Sites)'\n",
    "]\n",
    "\n",
    "columns_to_train = [\n",
    "    'Prostate Cancer in Males',\n",
    "    'Birth Rate',\n",
    "    'General Fertility Rate', \n",
    "    'Low Birth Weight', \n",
    "    'Prenatal Care Beginning in First Trimester',\n",
    "    'Preterm Births',\n",
    "    'Teen Birth Rate',\n",
    "    'Assault (Homicide)',\n",
    "    'Firearm-related',\n",
    "    'Below Poverty Level', \n",
    "    'Crowded Housing', \n",
    "    'Dependency', \n",
    "    'No High School Diploma', \n",
    "    'Per Capita Income', \n",
    "    'Unemployment'\n",
    "]"
   ]
  },
  {
   "cell_type": "code",
   "execution_count": 17,
   "metadata": {
    "collapsed": true
   },
   "outputs": [],
   "source": [
    "all_target = df.loc[:, column_to_predict]\n",
    "all_train = df.loc[:, columns_to_train]"
   ]
  },
  {
   "cell_type": "code",
   "execution_count": 18,
   "metadata": {
    "collapsed": true
   },
   "outputs": [],
   "source": [
    "# Import convenient function to separate traning and testing sets\n",
    "from sklearn.model_selection import train_test_split\n",
    "\n",
    "# Import Random Forest models\n",
    "from sklearn.ensemble import RandomForestRegressor\n",
    "\n",
    "# Import convenient function compute Spearman's correlation\n",
    "from scipy.stats import spearmanr"
   ]
  },
  {
   "cell_type": "code",
   "execution_count": 19,
   "metadata": {},
   "outputs": [
    {
     "name": "stderr",
     "output_type": "stream",
     "text": [
      "/Users/tstoeger/anaconda3/lib/python3.6/site-packages/ipykernel_launcher.py:9: DataConversionWarning: A column-vector y was passed when a 1d array was expected. Please change the shape of y to (n_samples,), for example using ravel().\n",
      "  if __name__ == '__main__':\n"
     ]
    },
    {
     "name": "stdout",
     "output_type": "stream",
     "text": [
      "SpearmanrResult(correlation=0.79117647058823537, pvalue=0.00026194644808245969)\n"
     ]
    },
    {
     "data": {
      "image/png": "[encoded data removed]",
      "text/plain": [
       "<matplotlib.figure.Figure at 0x1a143cffd0>"
      ]
     },
     "metadata": {},
     "output_type": "display_data"
    }
   ],
   "source": [
    "# Separate into training and testing set\n",
    "X_train, X_test, y_train, y_test = train_test_split(\n",
    "    all_train, all_target, test_size=0.2)\n",
    "\n",
    "# Initialize a machine leanring algorithm\n",
    "rf = RandomForestRegressor()\n",
    "\n",
    "# Train the machine learning algorithm\n",
    "rf.fit(X_train, y_train)   # please ignore the warning fo this tutorial\n",
    "\n",
    "# Predict the value of interest\n",
    "y_predicted = rf.predict(X_test)\n",
    "\n",
    "# Visualize the observed and the predicted value\n",
    "plt.figure(figsize=(7,7))\n",
    "plt.scatter(y_test, y_predicted)\n",
    "plt.xlabel('observed')\n",
    "plt.ylabel('predicted')\n",
    "\n",
    "\n",
    "print(\n",
    "    spearmanr(y_test, y_predicted)\n",
    ")"
   ]
  },
  {
   "cell_type": "code",
   "execution_count": 20,
   "metadata": {
    "collapsed": true
   },
   "outputs": [],
   "source": [
    "# Make a table with the importance of features\n",
    "importance=pd.DataFrame(\n",
    "    index=columns_to_train,\n",
    "    columns=['feature_importance'],\n",
    "    data=rf.feature_importances_)"
   ]
  },
  {
   "cell_type": "code",
   "execution_count": 21,
   "metadata": {},
   "outputs": [
    {
     "data": {
      "text/html": [
       "<div>\n",
       "<style>\n",
       "    .dataframe thead tr:only-child th {\n",
       "        text-align: right;\n",
       "    }\n",
       "\n",
       "    .dataframe thead th {\n",
       "        text-align: left;\n",
       "    }\n",
       "\n",
       "    .dataframe tbody tr th {\n",
       "        vertical-align: top;\n",
       "    }\n",
       "</style>\n",
       "<table border=\"1\" class=\"dataframe\">\n",
       "  <thead>\n",
       "    <tr style=\"text-align: right;\">\n",
       "      <th></th>\n",
       "      <th>feature_importance</th>\n",
       "    </tr>\n",
       "  </thead>\n",
       "  <tbody>\n",
       "    <tr>\n",
       "      <th>Preterm Births</th>\n",
       "      <td>0.336276</td>\n",
       "    </tr>\n",
       "    <tr>\n",
       "      <th>Prostate Cancer in Males</th>\n",
       "      <td>0.208068</td>\n",
       "    </tr>\n",
       "    <tr>\n",
       "      <th>Low Birth Weight</th>\n",
       "      <td>0.147429</td>\n",
       "    </tr>\n",
       "    <tr>\n",
       "      <th>Firearm-related</th>\n",
       "      <td>0.075636</td>\n",
       "    </tr>\n",
       "    <tr>\n",
       "      <th>Below Poverty Level</th>\n",
       "      <td>0.042957</td>\n",
       "    </tr>\n",
       "    <tr>\n",
       "      <th>Prenatal Care Beginning in First Trimester</th>\n",
       "      <td>0.037377</td>\n",
       "    </tr>\n",
       "    <tr>\n",
       "      <th>Unemployment</th>\n",
       "      <td>0.031159</td>\n",
       "    </tr>\n",
       "    <tr>\n",
       "      <th>Per Capita Income</th>\n",
       "      <td>0.027059</td>\n",
       "    </tr>\n",
       "    <tr>\n",
       "      <th>Dependency</th>\n",
       "      <td>0.022268</td>\n",
       "    </tr>\n",
       "    <tr>\n",
       "      <th>No High School Diploma</th>\n",
       "      <td>0.021732</td>\n",
       "    </tr>\n",
       "    <tr>\n",
       "      <th>Teen Birth Rate</th>\n",
       "      <td>0.018693</td>\n",
       "    </tr>\n",
       "    <tr>\n",
       "      <th>Assault (Homicide)</th>\n",
       "      <td>0.012371</td>\n",
       "    </tr>\n",
       "    <tr>\n",
       "      <th>Birth Rate</th>\n",
       "      <td>0.008460</td>\n",
       "    </tr>\n",
       "    <tr>\n",
       "      <th>General Fertility Rate</th>\n",
       "      <td>0.005762</td>\n",
       "    </tr>\n",
       "    <tr>\n",
       "      <th>Crowded Housing</th>\n",
       "      <td>0.004753</td>\n",
       "    </tr>\n",
       "  </tbody>\n",
       "</table>\n",
       "</div>"
      ],
      "text/plain": [
       "                                            feature_importance\n",
       "Preterm Births                                        0.336276\n",
       "Prostate Cancer in Males                              0.208068\n",
       "Low Birth Weight                                      0.147429\n",
       "Firearm-related                                       0.075636\n",
       "Below Poverty Level                                   0.042957\n",
       "Prenatal Care Beginning in First Trimester            0.037377\n",
       "Unemployment                                          0.031159\n",
       "Per Capita Income                                     0.027059\n",
       "Dependency                                            0.022268\n",
       "No High School Diploma                                0.021732\n",
       "Teen Birth Rate                                       0.018693\n",
       "Assault (Homicide)                                    0.012371\n",
       "Birth Rate                                            0.008460\n",
       "General Fertility Rate                                0.005762\n",
       "Crowded Housing                                       0.004753"
      ]
     },
     "execution_count": 21,
     "metadata": {},
     "output_type": "execute_result"
    }
   ],
   "source": [
    "# Display the table with the importance of features\n",
    "importance.sort_values('feature_importance', ascending=False)"
   ]
  },
  {
   "cell_type": "markdown",
   "metadata": {},
   "source": [
    "## Getting familiar with models"
   ]
  },
  {
   "cell_type": "markdown",
   "metadata": {},
   "source": [
    "Try re-running the same code, or removing individual features from columns_to_train. What happens and why?"
   ]
  },
  {
   "cell_type": "markdown",
   "metadata": {},
   "source": [
    "# Further suggested analysis:\n",
    "- Combine results of multiple distinct predictions -> does prediction get better?\n",
    "- Get a map of Chicago and color the communities according to their location in the clustergram (could be done either manually, or electronically)\n",
    "- Go to the City of Chicago data portal (data.cityofchicago.org), and see, if there are trends between the statistics of individual years (e.g.: how do characteristics change over years?)\n",
    "- Go to the City of Chicago data portal (data.cityofchicago.org) and find data that might improve predictions accuracy futher\n"
   ]
  },
  {
   "cell_type": "code",
   "execution_count": null,
   "metadata": {
    "collapsed": true
   },
   "outputs": [],
   "source": []
  }
 ],
 "metadata": {
  "kernelspec": {
   "display_name": "Python 3",
   "language": "python",
   "name": "python3"
  },
  "language_info": {
   "codemirror_mode": {
    "name": "ipython",
    "version": 3
   },
   "file_extension": ".py",
   "mimetype": "text/x-python",
   "name": "python",
   "nbconvert_exporter": "python",
   "pygments_lexer": "ipython3",
   "version": "3.6.3"
  }
 },
 "nbformat": 4,
 "nbformat_minor": 2
}
